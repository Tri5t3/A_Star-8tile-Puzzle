{
 "cells": [
  {
   "cell_type": "code",
   "execution_count": 1,
   "metadata": {},
   "outputs": [],
   "source": [
    "from funny_puzzle import *"
   ]
  },
  {
   "cell_type": "code",
   "execution_count": 2,
   "metadata": {},
   "outputs": [
    {
     "name": "stdout",
     "output_type": "stream",
     "text": [
      "[8, 7, 6, 5, 4, 0, 2, 1, 3] h=17\n",
      "[8, 7, 6, 5, 4, 3, 2, 0, 1] h=17\n"
     ]
    }
   ],
   "source": [
    "print_succ([8,7,6,5,4,3,2,1,0])"
   ]
  },
  {
   "cell_type": "code",
   "execution_count": 3,
   "metadata": {},
   "outputs": [
    {
     "name": "stdout",
     "output_type": "stream",
     "text": [
      "[1, 2, 3, 4, 5, 6, 7, 0, 8] h=1 moves: 0\n",
      "[1, 2, 3, 4, 5, 6, 7, 8, 0] h=0 moves: 1\n",
      "Max queue length:  3\n"
     ]
    }
   ],
   "source": [
    "solve([1,2,3,4,5,6,7,0,8])"
   ]
  },
  {
   "cell_type": "code",
   "execution_count": 4,
   "metadata": {},
   "outputs": [
    {
     "name": "stdout",
     "output_type": "stream",
     "text": [
      "[4, 3, 8, 5, 1, 6, 7, 2, 0] h=10 moves: 0\n",
      "[4, 3, 8, 5, 1, 0, 7, 2, 6] h=11 moves: 1\n",
      "[4, 3, 0, 5, 1, 8, 7, 2, 6] h=10 moves: 2\n",
      "[4, 0, 3, 5, 1, 8, 7, 2, 6] h=9 moves: 3\n",
      "[4, 1, 3, 5, 0, 8, 7, 2, 6] h=8 moves: 4\n",
      "[4, 1, 3, 5, 8, 0, 7, 2, 6] h=7 moves: 5\n",
      "[4, 1, 3, 5, 8, 6, 7, 2, 0] h=6 moves: 6\n",
      "[4, 1, 3, 5, 8, 6, 7, 0, 2] h=7 moves: 7\n",
      "[4, 1, 3, 5, 0, 6, 7, 8, 2] h=6 moves: 8\n",
      "[4, 1, 3, 0, 5, 6, 7, 8, 2] h=5 moves: 9\n",
      "[0, 1, 3, 4, 5, 6, 7, 8, 2] h=4 moves: 10\n",
      "[1, 0, 3, 4, 5, 6, 7, 8, 2] h=3 moves: 11\n",
      "[1, 3, 0, 4, 5, 6, 7, 8, 2] h=4 moves: 12\n",
      "[1, 3, 6, 4, 5, 0, 7, 8, 2] h=5 moves: 13\n",
      "[1, 3, 6, 4, 5, 2, 7, 8, 0] h=4 moves: 14\n",
      "[1, 3, 6, 4, 5, 2, 7, 0, 8] h=5 moves: 15\n",
      "[1, 3, 6, 4, 0, 2, 7, 5, 8] h=6 moves: 16\n",
      "[1, 3, 6, 4, 2, 0, 7, 5, 8] h=5 moves: 17\n",
      "[1, 3, 0, 4, 2, 6, 7, 5, 8] h=4 moves: 18\n",
      "[1, 0, 3, 4, 2, 6, 7, 5, 8] h=3 moves: 19\n",
      "[1, 2, 3, 4, 0, 6, 7, 5, 8] h=2 moves: 20\n",
      "[1, 2, 3, 4, 5, 6, 7, 0, 8] h=1 moves: 21\n",
      "[1, 2, 3, 4, 5, 6, 7, 8, 0] h=0 moves: 22\n",
      "Max queue length:  394\n"
     ]
    }
   ],
   "source": [
    "solve([4, 3, 8, 5, 1, 6, 7, 2, 0])"
   ]
  },
  {
   "cell_type": "code",
   "execution_count": 5,
   "metadata": {},
   "outputs": [],
   "source": [
    "# print(\"Poped Size:\", len(poped))\n",
    "# print(\"pq Size:\", len(pq))\n",
    "# print(\"Poped:\")\n",
    "# for item in poped:\n",
    "#     print(np.array(item[1]).reshape((3,3)))\n",
    "# print(\"pq:\")\n",
    "# for item in pq:\n",
    "#     print(np.array(item[1]).reshape((3,3)))"
   ]
  },
  {
   "cell_type": "code",
   "execution_count": 6,
   "metadata": {},
   "outputs": [],
   "source": [
    "# temp = poped[-1]\n",
    "# while temp[-1] != -1:\n",
    "#     print(temp[1])\n",
    "#     temp = temp[-1]"
   ]
  },
  {
   "cell_type": "code",
   "execution_count": 7,
   "metadata": {},
   "outputs": [],
   "source": [
    "# print(len(step))"
   ]
  },
  {
   "cell_type": "code",
   "execution_count": 8,
   "metadata": {},
   "outputs": [],
   "source": [
    "# index = len(step) - 1\n",
    "# for i in range(23):\n",
    "#     print(step[index - i], \" h=\", calc_h(step[index - i]), \" moves: \", i, sep=\"\")"
   ]
  }
 ],
 "metadata": {
  "interpreter": {
   "hash": "d8238f317c75f2772202101219d1bc561224774ccdf5daeb1c652a83710b959e"
  },
  "kernelspec": {
   "display_name": "Python 3.9.7 64-bit",
   "language": "python",
   "name": "python3"
  },
  "language_info": {
   "codemirror_mode": {
    "name": "ipython",
    "version": 3
   },
   "file_extension": ".py",
   "mimetype": "text/x-python",
   "name": "python",
   "nbconvert_exporter": "python",
   "pygments_lexer": "ipython3",
   "version": "3.9.7"
  },
  "orig_nbformat": 4
 },
 "nbformat": 4,
 "nbformat_minor": 2
}
